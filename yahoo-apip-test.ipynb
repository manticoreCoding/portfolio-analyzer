{
 "metadata": {
  "language_info": {
   "codemirror_mode": {
    "name": "ipython",
    "version": 3
   },
   "file_extension": ".py",
   "mimetype": "text/x-python",
   "name": "python",
   "nbconvert_exporter": "python",
   "pygments_lexer": "ipython3",
   "version": "3.6.3"
  },
  "orig_nbformat": 2,
  "kernelspec": {
   "name": "python363jvsc74a57bd0e41104c3eea0479eeb9620c349337d05c5cbda7f48898c39719d1a02ebb660be",
   "display_name": "Python 3.6.3 64-bit"
  }
 },
 "nbformat": 4,
 "nbformat_minor": 2,
 "cells": [
  {
   "cell_type": "code",
   "execution_count": 3,
   "metadata": {},
   "outputs": [
    {
     "output_type": "stream",
     "name": "stdout",
     "text": [
      "32 ['MAXN' 'XEQT' 'GLDM' 'THNK.V' 'VEQT' 'XGRO' 'REAL' 'SNX' 'JWEL' 'EEMV'\n 'XSH' 'IEFA' 'OTEX' 'ZFL' 'ACWV' 'IIP.UN' 'BMY' 'XEF' 'VUS' 'VTI' 'ALA'\n 'BRKB' 'ENB' 'LIT' 'XIC' 'BIP.UN' 'BLX.TO' 'T' 'BABA' 'RY' 'KO' 'ATD.B']\n"
     ]
    }
   ],
   "source": [
    "import pandas as pd\n",
    "import json\n",
    "import requests\n",
    "import os\n",
    "from pathlib import Path\n",
    "\n",
    "def loadsampledata():\n",
    "    \n",
    "    #data = pd.read_csv('..\\..\\Portfolio\\Positions - Default.csv')\n",
    "    '''\n",
    "    project-path = Path(os.getcwd())\n",
    "    data-path = 'GitHub\\Portfolio\\Positions - Default.csv'\n",
    "    data = pd.read_csv(project-path.joinpath('\\Portfolio\\Positions - Default.csv') \n",
    "    '''\n",
    "\n",
    "    project_path = Path(os.getcwd())\n",
    "    data_path = Path('Portfolio\\Positions - Default.csv')\n",
    "    final_path = os.path.join(project_path.parent.parent, data_path)\n",
    "\n",
    "    data = pd.read_csv(final_path)\n",
    "\n",
    "\n",
    "    return data\n",
    "\n",
    "data = loadsampledata()\n",
    "\n",
    "symbols = data.Symbol.dropna().unique()\n",
    "#symbols2 = data.dropna().Symbol.unique()\n",
    "\n",
    "#pd.unique(data[\"Symbol\"])\n",
    "\n",
    "#data[\"Symbol\"].unique()\n",
    "#data.Symbol.unique()\n",
    "\n",
    "print(len(symbols), symbols)\n",
    "#print(len(symbols2), symbols2)"
   ]
  },
  {
   "cell_type": "code",
   "execution_count": 2,
   "metadata": {},
   "outputs": [
    {
     "output_type": "stream",
     "name": "stdout",
     "text": [
      "XEQT symbol not found\n"
     ]
    },
    {
     "output_type": "execute_result",
     "data": {
      "text/plain": [
       "True"
      ]
     },
     "metadata": {},
     "execution_count": 2
    }
   ],
   "source": [
    "#api_token = 'your_api_token'\n",
    "#api_url_base = 'https://api.digitalocean.com/v2/'\n",
    "\n",
    "headers = {\n",
    "    'x-rapidapi-key': \"71a5d7c9a5msh0ce9fc09f6a1668p137554jsnde2c9287d2b4\",\n",
    "    'x-rapidapi-host': \"apidojo-yahoo-finance-v1.p.rapidapi.com\"\n",
    "}\n",
    "\n",
    "def check_url(url):\n",
    "  url = urlparse(url)\n",
    "  conn = http.client.HTTPConnection(url.netloc)\n",
    "  conn.request(\"HEAD\", url.path)\n",
    "  r = conn.getresponse()\n",
    "  if r.status == 200:\n",
    "    return True\n",
    "  else:\n",
    "    return False\n",
    "\n",
    "def get_analysis(symbol):\n",
    "    url = \"https://apidojo-yahoo-finance-v1.p.rapidapi.com/stock/v2/get-analysis\"\n",
    "\n",
    "    querystring = {\"symbol\": symbol}\n",
    "\n",
    "\n",
    "    response = requests.request(\"GET\", url, headers=headers, params=querystring)\n",
    "    #response = requests.get(url, headers=headers, params=querystring)\n",
    "    \n",
    "#    print (response.headers)\n",
    "    if response.status_code != 200:\n",
    "        print(\"Error in response\")\n",
    "        return false\n",
    "    \n",
    "    elif response.headers['content-length'] == \"0\":       \n",
    "        print(symbol + \" symbol not found\")\n",
    "        \n",
    "        return True\n",
    "    \n",
    "    else:\n",
    "        #analysis = json.loads(response.text)\n",
    "        analysis = response.json()\n",
    "        \n",
    "        #if analysis.hasOwnProperty('financialData'):\n",
    "        if 'financialData' in analysis:\n",
    "            #print(json.dumps(analysis, indent = 4, sort_keys=False))\n",
    "            keys = ['targetLowPrice', 'targetMedianPrice', 'currentPrice', 'targetMeanPrice', 'targetHighPrice']\n",
    "            \n",
    "            for key in keys:\n",
    "                if 'fmt' in analysis['financialData'][key]:\n",
    "                    print(key + \" = \" + json.dumps(analysis['financialData'][key]['fmt'], indent = 4, sort_keys=False))\n",
    "                else:\n",
    "                    print(key + \"value does not exist for \" + symbol)\n",
    "                    return False\n",
    "            #return True\n",
    "            return analysis['financialData']\n",
    "    \n",
    "        #elif analysis.hasOwnProperty('fundPerformance'):\n",
    "        elif 'fundPerformance' in analysis:\n",
    "            print(symbol + \"is a fund/ETF\")\n",
    "            print(json.dumps(analysis['fundPerformance']['annualTotalReturns'], indent = 4, sort_keys=False))\n",
    "            #return True\n",
    "            return analysis['fundPerformance']['annualTotalReturns']\n",
    "        \n",
    "        \n",
    "        else:\n",
    "            print(\"New category\")\n",
    "            return True\n",
    "\n",
    "    \n",
    "#get_analysis(\"TSLA\"), \n",
    "get_analysis(\"XEQT\")\n",
    "#get_analysis(\"THNK\")"
   ]
  },
  {
   "cell_type": "code",
   "execution_count": 6,
   "metadata": {},
   "outputs": [
    {
     "output_type": "stream",
     "name": "stdout",
     "text": [
      "Analyzing MAXN\n",
      "targetLowPrice = \"15.00\"\n",
      "targetMedianPrice = \"23.00\"\n",
      "currentPrice = \"20.10\"\n",
      "targetMeanPrice = \"27.67\"\n",
      "targetHighPrice = \"45.00\"\n",
      "-----------\n",
      "Analyzing XEQT\n",
      "XEQT symbol not found\n",
      "-----------\n",
      "Analyzing GLDM\n",
      "GLDMis a fund/ETF\n",
      "{\n",
      "    \"returns\": [\n",
      "        {\n",
      "            \"year\": \"2021\",\n",
      "            \"annualValue\": {}\n",
      "        },\n",
      "        {\n",
      "            \"year\": \"2020\",\n",
      "            \"annualValue\": {\n",
      "                \"raw\": 0.2394867,\n",
      "                \"fmt\": \"23.95%\"\n",
      "            }\n",
      "        },\n",
      "        {\n",
      "            \"year\": \"2019\",\n",
      "            \"annualValue\": {\n",
      "                \"raw\": 0.1862019,\n",
      "                \"fmt\": \"18.62%\"\n",
      "            }\n",
      "        },\n",
      "        {\n",
      "            \"year\": \"2018\",\n",
      "            \"annualValue\": {}\n",
      "        }\n",
      "    ],\n",
      "    \"returnsCat\": []\n",
      "}\n",
      "-----------\n",
      "Analyzing THNK\n",
      "THNKis a fund/ETF\n"
     ]
    },
    {
     "output_type": "error",
     "ename": "KeyError",
     "evalue": "'annualTotalReturns'",
     "traceback": [
      "\u001b[1;31m---------------------------------------------------------------------------\u001b[0m",
      "\u001b[1;31mKeyError\u001b[0m                                  Traceback (most recent call last)",
      "\u001b[1;32m<ipython-input-6-bfa099dcd411>\u001b[0m in \u001b[0;36m<module>\u001b[1;34m()\u001b[0m\n\u001b[0;32m      1\u001b[0m \u001b[1;32mfor\u001b[0m \u001b[0msymbol\u001b[0m \u001b[1;32min\u001b[0m \u001b[0msymbols\u001b[0m\u001b[1;33m:\u001b[0m\u001b[1;33m\u001b[0m\u001b[0m\n\u001b[0;32m      2\u001b[0m     \u001b[0mprint\u001b[0m\u001b[1;33m(\u001b[0m\u001b[1;34m\"Analyzing \"\u001b[0m \u001b[1;33m+\u001b[0m \u001b[0msymbol\u001b[0m \u001b[1;33m)\u001b[0m\u001b[1;33m\u001b[0m\u001b[0m\n\u001b[1;32m----> 3\u001b[1;33m     \u001b[0mget_analysis\u001b[0m\u001b[1;33m(\u001b[0m\u001b[0msymbol\u001b[0m\u001b[1;33m)\u001b[0m\u001b[1;33m\u001b[0m\u001b[0m\n\u001b[0m\u001b[0;32m      4\u001b[0m     \u001b[0mprint\u001b[0m\u001b[1;33m(\u001b[0m\u001b[1;34m\"-----------\"\u001b[0m\u001b[1;33m)\u001b[0m\u001b[1;33m\u001b[0m\u001b[0m\n",
      "\u001b[1;32m<ipython-input-5-00172ac3ef18>\u001b[0m in \u001b[0;36mget_analysis\u001b[1;34m(symbol)\u001b[0m\n\u001b[0;32m     57\u001b[0m         \u001b[1;32melif\u001b[0m \u001b[1;34m'fundPerformance'\u001b[0m \u001b[1;32min\u001b[0m \u001b[0manalysis\u001b[0m\u001b[1;33m:\u001b[0m\u001b[1;33m\u001b[0m\u001b[0m\n\u001b[0;32m     58\u001b[0m             \u001b[0mprint\u001b[0m\u001b[1;33m(\u001b[0m\u001b[0msymbol\u001b[0m \u001b[1;33m+\u001b[0m \u001b[1;34m\"is a fund/ETF\"\u001b[0m\u001b[1;33m)\u001b[0m\u001b[1;33m\u001b[0m\u001b[0m\n\u001b[1;32m---> 59\u001b[1;33m             \u001b[0mprint\u001b[0m\u001b[1;33m(\u001b[0m\u001b[0mjson\u001b[0m\u001b[1;33m.\u001b[0m\u001b[0mdumps\u001b[0m\u001b[1;33m(\u001b[0m\u001b[0manalysis\u001b[0m\u001b[1;33m[\u001b[0m\u001b[1;34m'fundPerformance'\u001b[0m\u001b[1;33m]\u001b[0m\u001b[1;33m[\u001b[0m\u001b[1;34m'annualTotalReturns'\u001b[0m\u001b[1;33m]\u001b[0m\u001b[1;33m,\u001b[0m \u001b[0mindent\u001b[0m \u001b[1;33m=\u001b[0m \u001b[1;36m4\u001b[0m\u001b[1;33m,\u001b[0m \u001b[0msort_keys\u001b[0m\u001b[1;33m=\u001b[0m\u001b[1;32mFalse\u001b[0m\u001b[1;33m)\u001b[0m\u001b[1;33m)\u001b[0m\u001b[1;33m\u001b[0m\u001b[0m\n\u001b[0m\u001b[0;32m     60\u001b[0m             \u001b[1;31m#return True\u001b[0m\u001b[1;33m\u001b[0m\u001b[1;33m\u001b[0m\u001b[0m\n\u001b[0;32m     61\u001b[0m             \u001b[1;32mreturn\u001b[0m \u001b[0manalysis\u001b[0m\u001b[1;33m[\u001b[0m\u001b[1;34m'fundPerformance'\u001b[0m\u001b[1;33m]\u001b[0m\u001b[1;33m[\u001b[0m\u001b[1;34m'annualTotalReturns'\u001b[0m\u001b[1;33m]\u001b[0m\u001b[1;33m\u001b[0m\u001b[0m\n",
      "\u001b[1;31mKeyError\u001b[0m: 'annualTotalReturns'"
     ]
    }
   ],
   "source": [
    "for symbol in symbols:\n",
    "    print(\"Analyzing \" + symbol )\n",
    "    get_analysis(symbol)\n",
    "    print(\"-----------\")"
   ]
  },
  {
   "cell_type": "code",
   "execution_count": 7,
   "metadata": {},
   "outputs": [
    {
     "output_type": "stream",
     "name": "stdout",
     "text": [
      "Current Directory c:\\Users\\thier\\OneDrive\\Documents on the cloud\\GitHub\\portfolio-analyzer\n\nParent directory c:\\Users\\thier\\OneDrive\\Documents on the cloud\\GitHub\n"
     ]
    }
   ],
   "source": [
    "# Python program to get parent\n",
    "# directory\n",
    "  \n",
    "  \n",
    "import os\n",
    "  \n",
    "# get current directory\n",
    "path = os.getcwd()\n",
    "print(\"Current Directory\", path)\n",
    "print()\n",
    "  \n",
    "# parent directory\n",
    "parent = os.path.dirname(path)\n",
    "print(\"Parent directory\", parent)"
   ]
  },
  {
   "cell_type": "code",
   "execution_count": 5,
   "metadata": {},
   "outputs": [
    {
     "output_type": "stream",
     "name": "stdout",
     "text": [
      "..\\ GeeksforGeeks \\ Nikhil \\ gfg.txt\n..\\Pycharm projects \\ GeeksforGeeks \\ Nikhil \\ gfg.txt\nPycharm projects \\ GeeksforGeeks \\ Nikhil \\ gfg.txt\n"
     ]
    },
    {
     "output_type": "error",
     "ename": "NameError",
     "evalue": "name 'Path' is not defined",
     "traceback": [
      "\u001b[1;31m---------------------------------------------------------------------------\u001b[0m",
      "\u001b[1;31mNameError\u001b[0m                                 Traceback (most recent call last)",
      "\u001b[1;32m<ipython-input-5-296277ab4aee>\u001b[0m in \u001b[0;36m<module>\u001b[1;34m()\u001b[0m\n\u001b[0;32m     29\u001b[0m \u001b[0mos\u001b[0m\u001b[1;33m.\u001b[0m\u001b[0mpath\u001b[0m\u001b[1;33m.\u001b[0m\u001b[0mdirname\u001b[0m\u001b[1;33m(\u001b[0m\u001b[0mpath\u001b[0m\u001b[1;33m)\u001b[0m\u001b[1;33m\u001b[0m\u001b[0m\n\u001b[0;32m     30\u001b[0m \u001b[1;33m\u001b[0m\u001b[0m\n\u001b[1;32m---> 31\u001b[1;33m \u001b[0mp\u001b[0m \u001b[1;33m=\u001b[0m \u001b[0mPath\u001b[0m\u001b[1;33m(\u001b[0m\u001b[0mpath\u001b[0m\u001b[1;33m)\u001b[0m\u001b[1;33m\u001b[0m\u001b[0m\n\u001b[0m\u001b[0;32m     32\u001b[0m \u001b[0mprint\u001b[0m\u001b[1;33m(\u001b[0m\u001b[0mp\u001b[0m\u001b[1;33m.\u001b[0m\u001b[0mparent\u001b[0m\u001b[1;33m.\u001b[0m\u001b[0mparent\u001b[0m\u001b[1;33m)\u001b[0m\u001b[1;33m\u001b[0m\u001b[0m\n",
      "\u001b[1;31mNameError\u001b[0m: name 'Path' is not defined"
     ]
    }
   ],
   "source": [
    "# Python program to get the\n",
    "# parent directory\n",
    "  \n",
    "  \n",
    "import os.path\n",
    "  \n",
    "# function to get parent\n",
    "def getParent(path, levels = 1):\n",
    "    common = path\n",
    "  \n",
    "    # Using for loop for getting\n",
    "    # starting point required for\n",
    "    # os.path.relpath()\n",
    "    for i in range(levels + 1):\n",
    "  \n",
    "        # Starting point\n",
    "        common = os.path.dirname(common)\n",
    "  \n",
    "    # Parent directory upto specified\n",
    "    # level\n",
    "    return os.path.relpath(path, common)\n",
    "  \n",
    "path = 'D:/Pycharm projects / GeeksforGeeks / Nikhil / gfg.txt'\n",
    "\n",
    "print(getParent(path, 1))\n",
    "print(getParent(path, 2))\n",
    "print(getParent(path, 3))\n",
    "\n",
    "os.path.dirname(path)\n",
    "\n",
    "p = Path(path)\n",
    "print(p.parent.parent)"
   ]
  },
  {
   "cell_type": "code",
   "execution_count": 4,
   "metadata": {},
   "outputs": [
    {
     "output_type": "error",
     "ename": "NameError",
     "evalue": "name 'Path' is not defined",
     "traceback": [
      "\u001b[1;31m---------------------------------------------------------------------------\u001b[0m",
      "\u001b[1;31mNameError\u001b[0m                                 Traceback (most recent call last)",
      "\u001b[1;32m<ipython-input-4-ad8647a61560>\u001b[0m in \u001b[0;36m<module>\u001b[1;34m()\u001b[0m\n\u001b[1;32m----> 1\u001b[1;33m \u001b[0mtest\u001b[0m \u001b[1;33m=\u001b[0m \u001b[0mPath\u001b[0m\u001b[1;33m(\u001b[0m\u001b[0mos\u001b[0m\u001b[1;33m.\u001b[0m\u001b[0mgetcwd\u001b[0m\u001b[1;33m(\u001b[0m\u001b[1;33m)\u001b[0m\u001b[1;33m)\u001b[0m\u001b[1;33m\u001b[0m\u001b[0m\n\u001b[0m\u001b[0;32m      2\u001b[0m \u001b[1;33m\u001b[0m\u001b[0m\n\u001b[0;32m      3\u001b[0m \u001b[0mp1\u001b[0m \u001b[1;33m=\u001b[0m \u001b[0mtest\u001b[0m\u001b[1;33m\u001b[0m\u001b[0m\n\u001b[0;32m      4\u001b[0m \u001b[0mp2\u001b[0m \u001b[1;33m=\u001b[0m \u001b[0mPath\u001b[0m\u001b[1;33m(\u001b[0m\u001b[1;34m'\\Portfolio\\Positions - Default.csv'\u001b[0m\u001b[1;33m)\u001b[0m\u001b[1;33m\u001b[0m\u001b[0m\n\u001b[0;32m      5\u001b[0m \u001b[0mp3\u001b[0m \u001b[1;33m=\u001b[0m \u001b[0mp1\u001b[0m\u001b[1;33m.\u001b[0m\u001b[0mjoinpath\u001b[0m\u001b[1;33m(\u001b[0m\u001b[0mp2\u001b[0m\u001b[1;33m)\u001b[0m\u001b[1;33m\u001b[0m\u001b[0m\n",
      "\u001b[1;31mNameError\u001b[0m: name 'Path' is not defined"
     ]
    }
   ],
   "source": [
    "test = Path(os.getcwd())\n",
    "\n",
    "p1 = test\n",
    "p2 = Path('\\Portfolio\\Positions - Default.csv')\n",
    "p3 = p1.joinpath(p2)\n",
    "\n",
    "print(p1)\n",
    "print(p2)\n",
    "print(p3)\n",
    "print(p1.parent.parent, p2)"
   ]
  },
  {
   "cell_type": "code",
   "execution_count": 70,
   "metadata": {},
   "outputs": [
    {
     "output_type": "stream",
     "name": "stdout",
     "text": [
      "c:\\Users\\thier\\OneDrive\\Documents on the cloud\\GitHub\\portfolio-analyzer\nPortfolio\\Positions - Default.csv\nc:\\Users\\thier\\OneDrive\\Documents on the cloud\\Portfolio\\Positions - Default.csv\n"
     ]
    }
   ],
   "source": [
    "\n",
    "project_path = Path(os.getcwd())\n",
    "\n",
    "#data_path = Path('GitHub\\Portfolio\\Positions - Default.csv')\n",
    "data_path = Path('Portfolio\\Positions - Default.csv')\n",
    "#final_path = project_path.joinpath(data_path)\n",
    "final_path = os.path.join(project_path.parent.parent, data_path)\n",
    "\n",
    "print(project_path)\n",
    "print(data_path)\n",
    "print(final_path)"
   ]
  },
  {
   "cell_type": "code",
   "execution_count": null,
   "metadata": {},
   "outputs": [],
   "source": []
  }
 ]
}